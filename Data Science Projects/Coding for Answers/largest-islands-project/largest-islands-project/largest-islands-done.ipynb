{
 "cells": [
  {
   "cell_type": "markdown",
   "metadata": {},
   "source": [
    "# World's largest islands\n",
    "\n",
    "This dataset `largest-islands.csv` contains information about the 100 largest islands in the world. The unit for the `area` column is km2."
   ]
  },
  {
   "cell_type": "code",
   "execution_count": 12,
   "metadata": {},
   "outputs": [],
   "source": [
    "# FOR GOOGLE COLAB ONLY.\n",
    "# Uncomment and run the code below. A dialog will appear to upload files.\n",
    "# Upload 'largest-islands.csv'.\n",
    "\n",
    "# from google.colab import files\n",
    "# uploaded = files.upload()"
   ]
  },
  {
   "cell_type": "code",
   "execution_count": 13,
   "metadata": {},
   "outputs": [
    {
     "data": {
      "text/html": [
       "<div>\n",
       "<style scoped>\n",
       "    .dataframe tbody tr th:only-of-type {\n",
       "        vertical-align: middle;\n",
       "    }\n",
       "\n",
       "    .dataframe tbody tr th {\n",
       "        vertical-align: top;\n",
       "    }\n",
       "\n",
       "    .dataframe thead th {\n",
       "        text-align: right;\n",
       "    }\n",
       "</style>\n",
       "<table border=\"1\" class=\"dataframe\">\n",
       "  <thead>\n",
       "    <tr style=\"text-align: right;\">\n",
       "      <th></th>\n",
       "      <th>region</th>\n",
       "      <th>island</th>\n",
       "      <th>area</th>\n",
       "      <th>countries</th>\n",
       "      <th>climate</th>\n",
       "      <th>rank</th>\n",
       "    </tr>\n",
       "  </thead>\n",
       "  <tbody>\n",
       "    <tr>\n",
       "      <th>0</th>\n",
       "      <td>Africa</td>\n",
       "      <td>Madagascar</td>\n",
       "      <td>591896</td>\n",
       "      <td>Madagascar</td>\n",
       "      <td>tropics</td>\n",
       "      <td>4</td>\n",
       "    </tr>\n",
       "    <tr>\n",
       "      <th>1</th>\n",
       "      <td>Antarctic</td>\n",
       "      <td>Kerguelen</td>\n",
       "      <td>6200</td>\n",
       "      <td>Antarctic Lands, France</td>\n",
       "      <td>temperate</td>\n",
       "      <td>91</td>\n",
       "    </tr>\n",
       "    <tr>\n",
       "      <th>2</th>\n",
       "      <td>Asia</td>\n",
       "      <td>Sumba</td>\n",
       "      <td>11153</td>\n",
       "      <td>Indonesia</td>\n",
       "      <td>tropics</td>\n",
       "      <td>65</td>\n",
       "    </tr>\n",
       "    <tr>\n",
       "      <th>3</th>\n",
       "      <td>Asia</td>\n",
       "      <td>Hainan</td>\n",
       "      <td>34300</td>\n",
       "      <td>China</td>\n",
       "      <td>tropics</td>\n",
       "      <td>37</td>\n",
       "    </tr>\n",
       "    <tr>\n",
       "      <th>4</th>\n",
       "      <td>Asia</td>\n",
       "      <td>Taiwan</td>\n",
       "      <td>36198</td>\n",
       "      <td>Taiwan</td>\n",
       "      <td>tropics</td>\n",
       "      <td>36</td>\n",
       "    </tr>\n",
       "  </tbody>\n",
       "</table>\n",
       "</div>"
      ],
      "text/plain": [
       "      region      island    area                countries    climate  rank\n",
       "0     Africa  Madagascar  591896               Madagascar    tropics     4\n",
       "1  Antarctic   Kerguelen    6200  Antarctic Lands, France  temperate    91\n",
       "2       Asia       Sumba   11153                Indonesia    tropics    65\n",
       "3       Asia      Hainan   34300                    China    tropics    37\n",
       "4       Asia      Taiwan   36198                   Taiwan    tropics    36"
      ]
     },
     "execution_count": 13,
     "metadata": {},
     "output_type": "execute_result"
    }
   ],
   "source": [
    "import pandas as pd\n",
    "import matplotlib.pyplot as plt\n",
    "\n",
    "df = pd.read_csv('largest-islands.csv')\n",
    "df.head()"
   ]
  },
  {
   "cell_type": "markdown",
   "metadata": {},
   "source": [
    "### Project Ideas\n",
    "\n",
    "- What are the 10 largest islands in the tropics?\n",
    "\n",
    "- What are the largest islands in each `region`?\n",
    "\n",
    "- Create a line graph with `area` on the y-axis and `rank` on the x-axis. The data should be ordered by `rank`, from largest to smallest.\n",
    "\n",
    "- What islands are composed of multiple countries?\n",
    "\t- Hint: try `countries.str.contains(\",\")`"
   ]
  },
  {
   "cell_type": "code",
   "execution_count": 14,
   "metadata": {},
   "outputs": [],
   "source": [
    "# YOUR CODE HERE (add more cells as needed)"
   ]
  },
  {
   "cell_type": "code",
   "execution_count": 21,
   "metadata": {},
   "outputs": [
    {
     "name": "stdout",
     "output_type": "stream",
     "text": [
      "      region      island    area                countries    climate  rank\n",
      "0     Africa  Madagascar  591896               Madagascar    tropics     4\n",
      "1  Antarctic   Kerguelen    6200  Antarctic Lands, France  temperate    91\n",
      "2       Asia       Sumba   11153                Indonesia    tropics    65\n",
      "3       Asia      Hainan   34300                    China    tropics    37\n",
      "4       Asia      Taiwan   36198                   Taiwan    tropics    36\n"
     ]
    }
   ],
   "source": [
    "# data Overview\n",
    "\n",
    "import pandas as pd\n",
    "import matplotlib.pyplot as plt\n",
    "\n",
    "df = pd.read_csv('largest-islands.csv')\n",
    "print(df.head())\n"
   ]
  },
  {
   "cell_type": "code",
   "execution_count": 24,
   "metadata": {},
   "outputs": [
    {
     "name": "stdout",
     "output_type": "stream",
     "text": [
      "        island    area                    countries\n",
      "86  New Guinea  821400  Papua New Guinea, Indonesia\n",
      "23      Borneo  755000  Indonesia, Malaysia, Brunei\n",
      "0   Madagascar  591896                   Madagascar\n",
      "28     Sumatra  480793                    Indonesia\n",
      "22    Sulawesi  188522                    Indonesia\n",
      "21        Java  129438                    Indonesia\n",
      "80        Cuba  109884                         Cuba\n",
      "26       Luzon  104688                  Philippines\n",
      "14    Mindanao   94630                  Philippines\n",
      "73  Hispaniola   76192    Dominican Republic, Haiti\n"
     ]
    }
   ],
   "source": [
    "# Top 10 Tropical Islands by Area\n",
    "\n",
    "tropical_islands = df.query('climate == \"tropics\"').nlargest(10, 'area')\n",
    "print(tropical_islands[['island', 'area', 'countries']])"
   ]
  },
  {
   "cell_type": "code",
   "execution_count": 25,
   "metadata": {},
   "outputs": [
    {
     "name": "stdout",
     "output_type": "stream",
     "text": [
      "           region                           island     area\n",
      "0          Africa                       Madagascar   591896\n",
      "1       Antarctic                        Kerguelen     6200\n",
      "23           Asia                           Borneo   755000\n",
      "35        Eurasia                         Sakhalin    76400\n",
      "41         Europe                        Greenland  2166086\n",
      "75  North America                    Baffin Island   507451\n",
      "86        Oceania                       New Guinea   821400\n",
      "98  South America  Isla Grande de Tierra del Fuego    47992\n"
     ]
    }
   ],
   "source": [
    "# Larget Island per Region\n",
    "\n",
    "largest_per_region = df.loc[df.groupby('region')['area'].idxmax()]\n",
    "print(largest_per_region[['region', 'island', 'area']])\n"
   ]
  },
  {
   "cell_type": "code",
   "execution_count": null,
   "metadata": {},
   "outputs": [],
   "source": [
    "# Area vs. Rank Visualization\n",
    "\n",
    "plt.figure(figsize=(10, 6))\n",
    "df_sorted = df.sort_values('rank')\n",
    "plt.plot(df_sorted['rank'], df_sorted['area'], marker='o', linestyle='-')\n",
    "plt.xlabel('Rank (1 = Largest)')\n",
    "plt.ylabel('Area (km²)')\n",
    "plt.title('Island Area by Global Rank')\n",
    "plt.grid(True)\n",
    "plt.show()\n"
   ]
  },
  {
   "cell_type": "code",
   "execution_count": 29,
   "metadata": {},
   "outputs": [
    {
     "name": "stdout",
     "output_type": "stream",
     "text": [
      "Islands shared by multiple countries:\n",
      "                              island                    countries\n",
      "1                         Kerguelen      Antarctic Lands, France\n",
      "23                           Borneo  Indonesia, Malaysia, Brunei\n",
      "45                          Ireland      Ireland, United Kingdom\n",
      "50                           Cyprus       Cyprus, United Kingdom\n",
      "73                       Hispaniola    Dominican Republic, Haiti\n",
      "86                       New Guinea  Papua New Guinea, Indonesia\n",
      "98  Isla Grande de Tierra del Fuego             Chile, Argentina\n"
     ]
    }
   ],
   "source": [
    "# Multi-Country Islands\n",
    "\n",
    "multi_country = df[df['countries'].str.contains(',', na=False)]\n",
    "print(\"Islands shared by multiple countries:\\n\", multi_country[['island', 'countries']])"
   ]
  },
  {
   "cell_type": "markdown",
   "metadata": {},
   "source": []
  },
  {
   "cell_type": "code",
   "execution_count": 28,
   "metadata": {},
   "outputs": [
    {
     "data": {
      "text/plain": [
       "<Axes: ylabel='count'>"
      ]
     },
     "execution_count": 28,
     "metadata": {},
     "output_type": "execute_result"
    },
    {
     "data": {
      "image/png": "[encoded data removed]",
      "text/plain": [
       "<Figure size 640x480 with 1 Axes>"
      ]
     },
     "metadata": {},
     "output_type": "display_data"
    }
   ],
   "source": [
    "# Climate distribution analysis\n",
    "\n",
    "\n",
    "climate_counts = df['climate'].value_counts()\n",
    "climate_counts.plot(kind='pie', autopct='%1.0f%%')"
   ]
  },
  {
   "cell_type": "code",
   "execution_count": null,
   "metadata": {},
   "outputs": [],
   "source": [
    "# ANALYSIS RESULTS \n",
    "\n",
    "# Largest Tropical Island: Madagascar (591,896 km²).\n",
    "\n",
    "# Smallest Ranked Tropical Island (in Top 10): Hispaniola.\n",
    "\n",
    "# Climate Distribution: Tropics dominate (41% of islands).\n",
    "\n"
   ]
  }
 ],
 "metadata": {
  "kernelspec": {
   "display_name": "Python 3",
   "language": "python",
   "name": "python3"
  },
  "language_info": {
   "codemirror_mode": {
    "name": "ipython",
    "version": 3
   },
   "file_extension": ".py",
   "mimetype": "text/x-python",
   "name": "python",
   "nbconvert_exporter": "python",
   "pygments_lexer": "ipython3",
   "version": "3.13.5"
  }
 },
 "nbformat": 4,
 "nbformat_minor": 2
}
